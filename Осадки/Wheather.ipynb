{
  "nbformat": 4,
  "nbformat_minor": 0,
  "metadata": {
    "colab": {
      "name": "Wheather.ipynb",
      "provenance": [],
      "collapsed_sections": []
    },
    "kernelspec": {
      "name": "python3",
      "display_name": "Python 3"
    },
    "language_info": {
      "name": "python"
    },
    "accelerator": "GPU"
  },
  "cells": [
    {
      "cell_type": "code",
      "execution_count": 1,
      "metadata": {
        "id": "MzHE5P8ng-6S"
      },
      "outputs": [],
      "source": [
        "import pandas as pd\n",
        "train = pd.read_csv(\"train_data.csv\")\n",
        "test = pd.read_csv(\"test_data.csv\")"
      ]
    },
    {
      "cell_type": "code",
      "source": [
        "train = train.fillna(0)"
      ],
      "metadata": {
        "id": "Tqj8AiHgu28Y"
      },
      "execution_count": 3,
      "outputs": []
    },
    {
      "cell_type": "code",
      "source": [
        "len(test['WindDir3pm'].unique())"
      ],
      "metadata": {
        "colab": {
          "base_uri": "https://localhost:8080/"
        },
        "id": "5vBK9kvS-j2B",
        "outputId": "aaca155d-b875-4429-ac1c-55289ed6419b"
      },
      "execution_count": 26,
      "outputs": [
        {
          "output_type": "execute_result",
          "data": {
            "text/plain": [
              "17"
            ]
          },
          "metadata": {},
          "execution_count": 26
        }
      ]
    },
    {
      "cell_type": "code",
      "source": [
        "from sklearn.linear_model import LogisticRegression\n",
        "from sklearn.tree import DecisionTreeClassifier\n",
        "from sklearn.neighbors import KNeighborsClassifier\n",
        "from sklearn.svm import SVC\n",
        "from sklearn.model_selection import GridSearchCV\n",
        "from sklearn.model_selection import train_test_split\n",
        "from sklearn import preprocessing\n",
        "\n",
        "label_encoder = preprocessing.LabelEncoder()"
      ],
      "metadata": {
        "id": "KMo1PG89pQa_"
      },
      "execution_count": 4,
      "outputs": []
    },
    {
      "cell_type": "code",
      "source": [
        "train_full = pd.get_dummies(train, columns=['Location', 'WindGustDir', 'WindDir9am', 'WindDir3pm'])\n",
        "test_full = pd.get_dummies(test, columns=['Location', 'WindGustDir', 'WindDir9am', 'WindDir3pm'])"
      ],
      "metadata": {
        "id": "bmsax3DyXNQh"
      },
      "execution_count": 5,
      "outputs": []
    },
    {
      "cell_type": "code",
      "source": [
        "train_full = train_full.drop(['WindDir3pm_0', 'WindDir9am_0', 'WindGustDir_0'], axis=1)"
      ],
      "metadata": {
        "id": "fS3eihhH_tdp"
      },
      "execution_count": 37,
      "outputs": []
    },
    {
      "cell_type": "code",
      "source": [
        "col1 = set(test_full.columns)\n",
        "col2 = set(train_full.columns)\n",
        "col2 - col1"
      ],
      "metadata": {
        "colab": {
          "base_uri": "https://localhost:8080/"
        },
        "id": "HEKWA7tT-5k5",
        "outputId": "bc31510a-08fd-46d5-abe1-b05d6582d35c"
      },
      "execution_count": 38,
      "outputs": [
        {
          "output_type": "execute_result",
          "data": {
            "text/plain": [
              "{'RainTomorrow'}"
            ]
          },
          "metadata": {},
          "execution_count": 38
        }
      ]
    },
    {
      "cell_type": "code",
      "source": [
        "train_full.head()\n",
        "train_full['RainTomorrow'].value_counts()"
      ],
      "metadata": {
        "id": "m84RBWz8Yjoa"
      },
      "execution_count": null,
      "outputs": []
    },
    {
      "cell_type": "code",
      "source": [
        "from imblearn.over_sampling import SMOTE\n",
        "\n",
        "os = SMOTE()\n",
        "train_x = train_full.drop('RainTomorrow', axis=1)\n",
        "train_y = train_full['RainTomorrow']\n",
        "os_train_x, os_train_y = os.fit_resample(train_x, train_y)"
      ],
      "metadata": {
        "id": "BknT6c7uZ_DD"
      },
      "execution_count": 39,
      "outputs": []
    },
    {
      "cell_type": "code",
      "source": [
        "from sklearn.preprocessing import StandardScaler\n",
        "scaler = StandardScaler()\n",
        "scaler.fit(os_train_x)\n",
        "train_norm_x = scaler.transform(os_train_x)\n",
        "train_norm_y = os_train_y\n",
        "\n",
        "scaler.fit(test_full)\n",
        "test_norm = scaler.transform(test_full)"
      ],
      "metadata": {
        "id": "gyqgwxLQbtCn"
      },
      "execution_count": 40,
      "outputs": []
    },
    {
      "cell_type": "code",
      "source": [
        "x_train, x_test, y_train, y_test = train_test_split(train_norm_x, train_norm_y)"
      ],
      "metadata": {
        "id": "5NwVp_qeeOkc"
      },
      "execution_count": 41,
      "outputs": []
    },
    {
      "cell_type": "code",
      "source": [
        "!pip install catboost"
      ],
      "metadata": {
        "id": "Ipl00sjv1MA5"
      },
      "execution_count": null,
      "outputs": []
    },
    {
      "cell_type": "code",
      "source": [
        "from catboost import CatBoostClassifier"
      ],
      "metadata": {
        "id": "J1ibtgbi1Ua_"
      },
      "execution_count": 10,
      "outputs": []
    },
    {
      "cell_type": "code",
      "source": [
        "from sklearn.svm import SVC\n",
        "from sklearn.metrics import confusion_matrix, accuracy_score, f1_score\n",
        "from sklearn.model_selection import KFold, cross_val_score\n",
        "import xgboost as xgb\n",
        "from sklearn.ensemble import RandomForestClassifier\n",
        "from sklearn.tree import DecisionTreeClassifier\n",
        "from sklearn.ensemble import AdaBoostClassifier\n",
        "\n",
        "catboost = CatBoostClassifier()\n",
        "tree = DecisionTreeClassifier()\n",
        "classifier = AdaBoostClassifier()\n",
        "xgb = xgb.XGBClassifier()\n",
        "randomtree = RandomForestClassifier()\n",
        "\n",
        "models = [catboost, tree, classifier, xgb, randomtree]\n",
        "\n",
        "score = []\n",
        "for model in models:\n",
        "    model.fit(x_train, y_train)\n",
        "    y_prediction = model.predict(x_test) \n",
        " \n",
        "    score.append(f1_score(y_prediction, y_test))"
      ],
      "metadata": {
        "id": "xqKZc7qrft32"
      },
      "execution_count": null,
      "outputs": []
    },
    {
      "cell_type": "code",
      "source": [
        "df = pd.DataFrame({'model': models, 'score': score})\n",
        "df"
      ],
      "metadata": {
        "id": "ebgpaMgFf6XF"
      },
      "execution_count": null,
      "outputs": []
    },
    {
      "cell_type": "code",
      "source": [
        "depth = [2, 3, 5, 7]\n",
        "iterations = [100, 300, 500, 1000]\n",
        "verbose = [True, False]\n",
        "params = dict(depth = depth, iterations = iterations, verbose=verbose)\n",
        "grid = GridSearchCV(catboost, params)\n",
        "grid.fit(x_train, y_train)"
      ],
      "metadata": {
        "id": "e8lG_2TCe-bs"
      },
      "execution_count": null,
      "outputs": []
    },
    {
      "cell_type": "code",
      "source": [
        "grid.best_params_"
      ],
      "metadata": {
        "colab": {
          "base_uri": "https://localhost:8080/"
        },
        "id": "enIJEek_nJSx",
        "outputId": "9346b6db-b4bf-490b-ce40-561d16ad02dd"
      },
      "execution_count": 55,
      "outputs": [
        {
          "output_type": "execute_result",
          "data": {
            "text/plain": [
              "{'depth': 7, 'iterations': 1000, 'verbose': True}"
            ]
          },
          "metadata": {},
          "execution_count": 55
        }
      ]
    },
    {
      "cell_type": "code",
      "source": [
        "catboost = CatBoostClassifier(depth = 7, iterations = 1000, verbose = True)\n",
        "catboost.fit(x_train, y_train)\n",
        "y_pred = catboost.predict(x_test)\n",
        "accuracy_score(y_pred, y_test)"
      ],
      "metadata": {
        "id": "eeFPm2bR8YtZ"
      },
      "execution_count": null,
      "outputs": []
    },
    {
      "cell_type": "code",
      "source": [
        "from sklearn.metrics import confusion_matrix, accuracy_score, f1_score\n",
        "f1_score(y_pred, y_test)"
      ],
      "metadata": {
        "id": "GiK3eqXwoMmq"
      },
      "execution_count": null,
      "outputs": []
    },
    {
      "cell_type": "code",
      "source": [
        "os_train_x.head()"
      ],
      "metadata": {
        "id": "2TDe0354bbHQ"
      },
      "execution_count": null,
      "outputs": []
    },
    {
      "cell_type": "code",
      "source": [
        "n_estimators = [50, 100, 300, 500]\n",
        "min_samples_split = [1, 2, 3, 5]\n",
        "max_depth = [2, 3, 7, 11, 15]\n",
        "params = dict(n_estimators = n_estimators, min_samples_split = min_samples_split, max_depth = max_depth)\n",
        "grid = GridSearchCV(randomtree, params)\n",
        "grid.fit(x_train, y_train)"
      ],
      "metadata": {
        "id": "x1t5Ut4DqmKP"
      },
      "execution_count": null,
      "outputs": []
    },
    {
      "cell_type": "code",
      "source": [
        "c = grid.best_params_\n",
        "c"
      ],
      "metadata": {
        "colab": {
          "base_uri": "https://localhost:8080/"
        },
        "id": "5AtMmwLXs_-u",
        "outputId": "68eebf24-0a23-48f7-e744-2968104dfcaf"
      },
      "execution_count": 77,
      "outputs": [
        {
          "output_type": "execute_result",
          "data": {
            "text/plain": [
              "{'max_depth': 15, 'min_samples_split': 2, 'n_estimators': 300}"
            ]
          },
          "metadata": {},
          "execution_count": 77
        }
      ]
    },
    {
      "cell_type": "code",
      "source": [
        "randomtree = RandomForestClassifier(n_estimators=300)"
      ],
      "metadata": {
        "id": "eBtfZHlF44VO"
      },
      "execution_count": 42,
      "outputs": []
    },
    {
      "cell_type": "code",
      "source": [
        "randomtree.fit(x_train, y_train)\n",
        "y_pred = randomtree.predict(x_test)\n",
        "f1_score(y_pred, y_test)"
      ],
      "metadata": {
        "colab": {
          "base_uri": "https://localhost:8080/"
        },
        "id": "h3p_pDXnqRTW",
        "outputId": "6aea2a12-d13f-42c1-9d9f-6cfabb94cb22"
      },
      "execution_count": 43,
      "outputs": [
        {
          "output_type": "execute_result",
          "data": {
            "text/plain": [
              "0.9076823264511696"
            ]
          },
          "metadata": {},
          "execution_count": 43
        }
      ]
    },
    {
      "cell_type": "code",
      "source": [
        "test_norm = pd.DataFrame(test_norm)"
      ],
      "metadata": {
        "id": "NkD0Ohpjq-YW"
      },
      "execution_count": 46,
      "outputs": []
    },
    {
      "cell_type": "code",
      "source": [
        "test_norm = test_norm.fillna(0)"
      ],
      "metadata": {
        "id": "8JX3MO2K-XpC"
      },
      "execution_count": 47,
      "outputs": []
    },
    {
      "cell_type": "code",
      "source": [
        "test_pred = randomtree.predict(test_norm)"
      ],
      "metadata": {
        "id": "18jxzOaRnlFo"
      },
      "execution_count": 48,
      "outputs": []
    },
    {
      "cell_type": "code",
      "source": [
        "test_pred"
      ],
      "metadata": {
        "colab": {
          "base_uri": "https://localhost:8080/"
        },
        "id": "aD2gyPN0n4yP",
        "outputId": "37caa0bf-6781-4cd9-e9d2-7313391971af"
      },
      "execution_count": 58,
      "outputs": [
        {
          "output_type": "execute_result",
          "data": {
            "text/plain": [
              "array([1., 1., 1., ..., 0., 0., 1.])"
            ]
          },
          "metadata": {},
          "execution_count": 58
        }
      ]
    },
    {
      "cell_type": "code",
      "source": [
        "f = open('submission.csv', 'w')\n",
        "for i in test_pred:\n",
        "    f.write(str(int(i)) + '\\n')\n",
        "f.close()"
      ],
      "metadata": {
        "id": "YqWT0TYiK9bz"
      },
      "execution_count": 49,
      "outputs": []
    },
    {
      "cell_type": "code",
      "source": [
        "import xgboost as xgb\n",
        "clf = xgb.XGBClassifier()\n",
        "parameters = {\n",
        "     \"eta\"    : [0.10, 0.15, 0.20] ,\n",
        "     \"max_depth\"        : [ 3, 4, 5, 6],\n",
        "     \"min_child_weight\" : [ 1, 3, 5, 7 ],\n",
        "     \"colsample_bytree\" : [ 0.3, 0.4, 0.5 , 0.7 ]\n",
        "     }\n",
        "\n",
        "grid = GridSearchCV(clf,\n",
        "                    parameters, n_jobs=4,\n",
        "                    scoring=\"neg_log_loss\",\n",
        "                    cv=3)\n",
        "\n",
        "grid.fit(x_train, y_train)"
      ],
      "metadata": {
        "colab": {
          "base_uri": "https://localhost:8080/"
        },
        "id": "4bhMmGSa-6Wx",
        "outputId": "14a3e96a-04fe-45bc-8273-cee6f7ea2d43"
      },
      "execution_count": 14,
      "outputs": [
        {
          "output_type": "execute_result",
          "data": {
            "text/plain": [
              "GridSearchCV(cv=3, estimator=XGBClassifier(), n_jobs=4,\n",
              "             param_grid={'colsample_bytree': [0.3, 0.4, 0.5, 0.7],\n",
              "                         'eta': [0.1, 0.15, 0.2], 'max_depth': [3, 4, 5, 6],\n",
              "                         'min_child_weight': [1, 3, 5, 7]},\n",
              "             scoring='neg_log_loss')"
            ]
          },
          "metadata": {},
          "execution_count": 14
        }
      ]
    },
    {
      "cell_type": "code",
      "source": [
        "C = grid.best_params_\n",
        "C"
      ],
      "metadata": {
        "colab": {
          "base_uri": "https://localhost:8080/"
        },
        "id": "Fsm5vVbuHTQk",
        "outputId": "b26b5576-4533-4c9e-d894-39b89c89f833"
      },
      "execution_count": 20,
      "outputs": [
        {
          "output_type": "execute_result",
          "data": {
            "text/plain": [
              "{'colsample_bytree': 0.7, 'eta': 0.1, 'max_depth': 3, 'min_child_weight': 7}"
            ]
          },
          "metadata": {},
          "execution_count": 20
        }
      ]
    },
    {
      "cell_type": "code",
      "source": [
        "import xgboost as xgb\n",
        "clf = xgb.XGBClassifier(max_depth=3, min_child_weight=7, colsample_bytree=0.7, eta = 0.1)\n",
        "clf.fit(x_train, y_train)\n",
        "y_pred = clf.predict(x_test)\n",
        "f1_score(y_pred, y_test)"
      ],
      "metadata": {
        "colab": {
          "base_uri": "https://localhost:8080/"
        },
        "id": "fnVmgsCaIXf7",
        "outputId": "7a97099f-d472-4ceb-89a9-e829e961e2f8"
      },
      "execution_count": 73,
      "outputs": [
        {
          "output_type": "execute_result",
          "data": {
            "text/plain": [
              "0.8794570968484012"
            ]
          },
          "metadata": {},
          "execution_count": 73
        }
      ]
    },
    {
      "cell_type": "code",
      "source": [
        ""
      ],
      "metadata": {
        "id": "bYo1rWJZqwEX"
      },
      "execution_count": null,
      "outputs": []
    }
  ]
}