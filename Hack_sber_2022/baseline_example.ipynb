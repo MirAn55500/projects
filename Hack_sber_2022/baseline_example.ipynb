{
 "cells": [
  {
   "cell_type": "code",
   "execution_count": 1,
   "metadata": {
    "ExecuteTime": {
     "end_time": "2022-06-23T13:11:02.700021Z",
     "start_time": "2022-06-23T13:11:02.695799Z"
    }
   },
   "outputs": [],
   "source": [
    "from sklearn.model_selection import train_test_split\n",
    "from sklearn.linear_model import LogisticRegression\n",
    "from sklearn import metrics\n",
    "import matplotlib.pyplot as plt\n",
    "from sklearn.model_selection import train_test_split\n",
    "import warnings\n",
    "import pandas as pd\n",
    "from sklearn.metrics import *\n",
    "\n",
    "warnings.filterwarnings('ignore')"
   ]
  },
  {
   "cell_type": "code",
   "execution_count": 2,
   "metadata": {
    "ExecuteTime": {
     "end_time": "2022-06-23T13:10:32.961698Z",
     "start_time": "2022-06-23T13:10:26.940877Z"
    }
   },
   "outputs": [],
   "source": [
    "train_feat = pd.read_csv('train_data.csv', index_col=0)\n",
    "test_feat = pd.read_csv('test_data.csv', index_col=0)\n",
    "train_flag = pd.read_csv('train_flag.csv', index_col=0)"
   ]
  },
  {
   "cell_type": "code",
   "execution_count": 3,
   "metadata": {
    "ExecuteTime": {
     "end_time": "2022-06-23T14:11:09.228966Z",
     "start_time": "2022-06-23T14:11:09.216800Z"
    }
   },
   "outputs": [
    {
     "data": {
      "text/html": [
       "<div>\n",
       "<style scoped>\n",
       "    .dataframe tbody tr th:only-of-type {\n",
       "        vertical-align: middle;\n",
       "    }\n",
       "\n",
       "    .dataframe tbody tr th {\n",
       "        vertical-align: top;\n",
       "    }\n",
       "\n",
       "    .dataframe thead th {\n",
       "        text-align: right;\n",
       "    }\n",
       "</style>\n",
       "<table border=\"1\" class=\"dataframe\">\n",
       "  <thead>\n",
       "    <tr style=\"text-align: right;\">\n",
       "      <th></th>\n",
       "      <th>id_level_1</th>\n",
       "      <th>default_in_1y_flag</th>\n",
       "    </tr>\n",
       "  </thead>\n",
       "  <tbody>\n",
       "    <tr>\n",
       "      <th>0</th>\n",
       "      <td>0</td>\n",
       "      <td>0</td>\n",
       "    </tr>\n",
       "    <tr>\n",
       "      <th>1</th>\n",
       "      <td>1</td>\n",
       "      <td>0</td>\n",
       "    </tr>\n",
       "    <tr>\n",
       "      <th>2</th>\n",
       "      <td>2</td>\n",
       "      <td>0</td>\n",
       "    </tr>\n",
       "    <tr>\n",
       "      <th>3</th>\n",
       "      <td>3</td>\n",
       "      <td>0</td>\n",
       "    </tr>\n",
       "    <tr>\n",
       "      <th>4</th>\n",
       "      <td>5</td>\n",
       "      <td>0</td>\n",
       "    </tr>\n",
       "    <tr>\n",
       "      <th>...</th>\n",
       "      <td>...</td>\n",
       "      <td>...</td>\n",
       "    </tr>\n",
       "    <tr>\n",
       "      <th>43802</th>\n",
       "      <td>54318</td>\n",
       "      <td>0</td>\n",
       "    </tr>\n",
       "    <tr>\n",
       "      <th>43803</th>\n",
       "      <td>54320</td>\n",
       "      <td>0</td>\n",
       "    </tr>\n",
       "    <tr>\n",
       "      <th>43804</th>\n",
       "      <td>54321</td>\n",
       "      <td>0</td>\n",
       "    </tr>\n",
       "    <tr>\n",
       "      <th>43805</th>\n",
       "      <td>54322</td>\n",
       "      <td>0</td>\n",
       "    </tr>\n",
       "    <tr>\n",
       "      <th>43806</th>\n",
       "      <td>54323</td>\n",
       "      <td>0</td>\n",
       "    </tr>\n",
       "  </tbody>\n",
       "</table>\n",
       "<p>43807 rows × 2 columns</p>\n",
       "</div>"
      ],
      "text/plain": [
       "       id_level_1  default_in_1y_flag\n",
       "0               0                   0\n",
       "1               1                   0\n",
       "2               2                   0\n",
       "3               3                   0\n",
       "4               5                   0\n",
       "...           ...                 ...\n",
       "43802       54318                   0\n",
       "43803       54320                   0\n",
       "43804       54321                   0\n",
       "43805       54322                   0\n",
       "43806       54323                   0\n",
       "\n",
       "[43807 rows x 2 columns]"
      ]
     },
     "execution_count": 3,
     "metadata": {},
     "output_type": "execute_result"
    }
   ],
   "source": [
    "train_flag"
   ]
  },
  {
   "cell_type": "code",
   "execution_count": 4,
   "metadata": {
    "ExecuteTime": {
     "end_time": "2022-06-23T13:10:34.184487Z",
     "start_time": "2022-06-23T13:10:32.963594Z"
    }
   },
   "outputs": [
    {
     "data": {
      "text/html": [
       "<div>\n",
       "<style scoped>\n",
       "    .dataframe tbody tr th:only-of-type {\n",
       "        vertical-align: middle;\n",
       "    }\n",
       "\n",
       "    .dataframe tbody tr th {\n",
       "        vertical-align: top;\n",
       "    }\n",
       "\n",
       "    .dataframe thead th {\n",
       "        text-align: right;\n",
       "    }\n",
       "</style>\n",
       "<table border=\"1\" class=\"dataframe\">\n",
       "  <thead>\n",
       "    <tr style=\"text-align: right;\">\n",
       "      <th></th>\n",
       "      <th>id_level_1</th>\n",
       "      <th>feat_1</th>\n",
       "      <th>feat_2</th>\n",
       "      <th>feat_3</th>\n",
       "      <th>feat_4</th>\n",
       "      <th>default_in_1y_flag</th>\n",
       "    </tr>\n",
       "  </thead>\n",
       "  <tbody>\n",
       "    <tr>\n",
       "      <th>0</th>\n",
       "      <td>0</td>\n",
       "      <td>444.238835</td>\n",
       "      <td>45756.60</td>\n",
       "      <td>47.203883</td>\n",
       "      <td>4862</td>\n",
       "      <td>0</td>\n",
       "    </tr>\n",
       "    <tr>\n",
       "      <th>1</th>\n",
       "      <td>1</td>\n",
       "      <td>42.773830</td>\n",
       "      <td>6031.11</td>\n",
       "      <td>4.482270</td>\n",
       "      <td>632</td>\n",
       "      <td>0</td>\n",
       "    </tr>\n",
       "    <tr>\n",
       "      <th>2</th>\n",
       "      <td>2</td>\n",
       "      <td>337.442923</td>\n",
       "      <td>21933.79</td>\n",
       "      <td>35.738462</td>\n",
       "      <td>2323</td>\n",
       "      <td>0</td>\n",
       "    </tr>\n",
       "    <tr>\n",
       "      <th>3</th>\n",
       "      <td>3</td>\n",
       "      <td>591.172711</td>\n",
       "      <td>98134.67</td>\n",
       "      <td>60.704819</td>\n",
       "      <td>10077</td>\n",
       "      <td>0</td>\n",
       "    </tr>\n",
       "    <tr>\n",
       "      <th>4</th>\n",
       "      <td>5</td>\n",
       "      <td>71.208692</td>\n",
       "      <td>7619.33</td>\n",
       "      <td>7.093458</td>\n",
       "      <td>759</td>\n",
       "      <td>0</td>\n",
       "    </tr>\n",
       "    <tr>\n",
       "      <th>...</th>\n",
       "      <td>...</td>\n",
       "      <td>...</td>\n",
       "      <td>...</td>\n",
       "      <td>...</td>\n",
       "      <td>...</td>\n",
       "      <td>...</td>\n",
       "    </tr>\n",
       "    <tr>\n",
       "      <th>43802</th>\n",
       "      <td>54318</td>\n",
       "      <td>215.485269</td>\n",
       "      <td>20040.13</td>\n",
       "      <td>21.279570</td>\n",
       "      <td>1979</td>\n",
       "      <td>0</td>\n",
       "    </tr>\n",
       "    <tr>\n",
       "      <th>43803</th>\n",
       "      <td>54320</td>\n",
       "      <td>64.468171</td>\n",
       "      <td>5286.39</td>\n",
       "      <td>6.341463</td>\n",
       "      <td>520</td>\n",
       "      <td>0</td>\n",
       "    </tr>\n",
       "    <tr>\n",
       "      <th>43804</th>\n",
       "      <td>54321</td>\n",
       "      <td>10.800000</td>\n",
       "      <td>32.40</td>\n",
       "      <td>1.000000</td>\n",
       "      <td>3</td>\n",
       "      <td>0</td>\n",
       "    </tr>\n",
       "    <tr>\n",
       "      <th>43805</th>\n",
       "      <td>54322</td>\n",
       "      <td>180.515341</td>\n",
       "      <td>31770.70</td>\n",
       "      <td>18.960227</td>\n",
       "      <td>3337</td>\n",
       "      <td>0</td>\n",
       "    </tr>\n",
       "    <tr>\n",
       "      <th>43806</th>\n",
       "      <td>54323</td>\n",
       "      <td>37.170000</td>\n",
       "      <td>1970.01</td>\n",
       "      <td>3.849057</td>\n",
       "      <td>204</td>\n",
       "      <td>0</td>\n",
       "    </tr>\n",
       "  </tbody>\n",
       "</table>\n",
       "<p>43807 rows × 6 columns</p>\n",
       "</div>"
      ],
      "text/plain": [
       "       id_level_1      feat_1    feat_2     feat_3  feat_4  default_in_1y_flag\n",
       "0               0  444.238835  45756.60  47.203883    4862                   0\n",
       "1               1   42.773830   6031.11   4.482270     632                   0\n",
       "2               2  337.442923  21933.79  35.738462    2323                   0\n",
       "3               3  591.172711  98134.67  60.704819   10077                   0\n",
       "4               5   71.208692   7619.33   7.093458     759                   0\n",
       "...           ...         ...       ...        ...     ...                 ...\n",
       "43802       54318  215.485269  20040.13  21.279570    1979                   0\n",
       "43803       54320   64.468171   5286.39   6.341463     520                   0\n",
       "43804       54321   10.800000     32.40   1.000000       3                   0\n",
       "43805       54322  180.515341  31770.70  18.960227    3337                   0\n",
       "43806       54323   37.170000   1970.01   3.849057     204                   0\n",
       "\n",
       "[43807 rows x 6 columns]"
      ]
     },
     "execution_count": 4,
     "metadata": {},
     "output_type": "execute_result"
    }
   ],
   "source": [
    "tab_2 = train_feat[['amount', 'count', 'id_level_1']].groupby(by='id_level_1').agg(['mean','sum'])\n",
    "tab_2 = tab_2.reset_index().merge(train_flag, on='id_level_1', how='inner').drop('id_level_1', axis=1)\n",
    "\n",
    "tab_2.columns = ['id_level_1','feat_1','feat_2','feat_3','feat_4','default_in_1y_flag']\n",
    "tab_2"
   ]
  },
  {
   "cell_type": "code",
   "execution_count": 5,
   "metadata": {
    "ExecuteTime": {
     "end_time": "2022-06-23T14:12:58.853017Z",
     "start_time": "2022-06-23T14:12:52.682957Z"
    }
   },
   "outputs": [],
   "source": [
    "X_train, X_val, y_train, y_val = train_test_split(tab_2.drop(['id_level_1','default_in_1y_flag'], axis=1), \n",
    "                                                   tab_2['default_in_1y_flag'], test_size=0.3, random_state=43)\n",
    "model = LogisticRegression(random_state=0, max_iter=1000, solver='newton-cg').fit(X_train, y_train)"
   ]
  },
  {
   "cell_type": "code",
   "execution_count": 6,
   "metadata": {},
   "outputs": [
    {
     "name": "stdout",
     "output_type": "stream",
     "text": [
      "0.378 val\n",
      "0.372 train\n"
     ]
    },
    {
     "data": {
      "image/png": "[encoded data removed]",
      "text/plain": [
       "<Figure size 720x432 with 1 Axes>"
      ]
     },
     "metadata": {
      "needs_background": "light"
     },
     "output_type": "display_data"
    }
   ],
   "source": [
    "y_val_scores = model.predict_proba(X_val)[:,1]\n",
    "print(round(2 * roc_auc_score(y_val, y_val_scores)-1, 3), 'val')\n",
    "\n",
    "\n",
    "y_train_scores = model.predict_proba(X_train)[:,1]\n",
    "print(round(2 * roc_auc_score(y_train, y_train_scores)-1, 3), 'train')\n",
    "\n",
    "fpr, tpr, thresholds = metrics.roc_curve(y_val, y_val_scores)\n",
    "plt.figure(figsize=(10,6))\n",
    "plt.plot([0, 1], [0, 1], color='navy', lw=2, linestyle='--')\n",
    "plt.plot(fpr,tpr)\n",
    "\n",
    "fpr, tpr, thresholds = metrics.roc_curve(y_train, y_train_scores)\n",
    "plt.plot(fpr,tpr)\n",
    "plt.grid(True)\n",
    "plt.show()"
   ]
  },
  {
   "cell_type": "code",
   "execution_count": 7,
   "metadata": {
    "ExecuteTime": {
     "end_time": "2022-06-23T13:11:16.893858Z",
     "start_time": "2022-06-23T13:11:16.601664Z"
    }
   },
   "outputs": [
    {
     "data": {
      "text/html": [
       "<div>\n",
       "<style scoped>\n",
       "    .dataframe tbody tr th:only-of-type {\n",
       "        vertical-align: middle;\n",
       "    }\n",
       "\n",
       "    .dataframe tbody tr th {\n",
       "        vertical-align: top;\n",
       "    }\n",
       "\n",
       "    .dataframe thead th {\n",
       "        text-align: right;\n",
       "    }\n",
       "</style>\n",
       "<table border=\"1\" class=\"dataframe\">\n",
       "  <thead>\n",
       "    <tr style=\"text-align: right;\">\n",
       "      <th></th>\n",
       "      <th>id_level_1</th>\n",
       "      <th>score</th>\n",
       "    </tr>\n",
       "  </thead>\n",
       "  <tbody>\n",
       "    <tr>\n",
       "      <th>0</th>\n",
       "      <td>4</td>\n",
       "      <td>0.036213</td>\n",
       "    </tr>\n",
       "    <tr>\n",
       "      <th>1</th>\n",
       "      <td>10</td>\n",
       "      <td>0.027422</td>\n",
       "    </tr>\n",
       "    <tr>\n",
       "      <th>2</th>\n",
       "      <td>20</td>\n",
       "      <td>0.004326</td>\n",
       "    </tr>\n",
       "    <tr>\n",
       "      <th>3</th>\n",
       "      <td>25</td>\n",
       "      <td>0.025148</td>\n",
       "    </tr>\n",
       "    <tr>\n",
       "      <th>4</th>\n",
       "      <td>26</td>\n",
       "      <td>0.030912</td>\n",
       "    </tr>\n",
       "    <tr>\n",
       "      <th>...</th>\n",
       "      <td>...</td>\n",
       "      <td>...</td>\n",
       "    </tr>\n",
       "    <tr>\n",
       "      <th>10512</th>\n",
       "      <td>54308</td>\n",
       "      <td>0.009727</td>\n",
       "    </tr>\n",
       "    <tr>\n",
       "      <th>10513</th>\n",
       "      <td>54310</td>\n",
       "      <td>0.024249</td>\n",
       "    </tr>\n",
       "    <tr>\n",
       "      <th>10514</th>\n",
       "      <td>54312</td>\n",
       "      <td>0.027242</td>\n",
       "    </tr>\n",
       "    <tr>\n",
       "      <th>10515</th>\n",
       "      <td>54313</td>\n",
       "      <td>0.019509</td>\n",
       "    </tr>\n",
       "    <tr>\n",
       "      <th>10516</th>\n",
       "      <td>54319</td>\n",
       "      <td>0.031860</td>\n",
       "    </tr>\n",
       "  </tbody>\n",
       "</table>\n",
       "<p>10517 rows × 2 columns</p>\n",
       "</div>"
      ],
      "text/plain": [
       "       id_level_1     score\n",
       "0               4  0.036213\n",
       "1              10  0.027422\n",
       "2              20  0.004326\n",
       "3              25  0.025148\n",
       "4              26  0.030912\n",
       "...           ...       ...\n",
       "10512       54308  0.009727\n",
       "10513       54310  0.024249\n",
       "10514       54312  0.027242\n",
       "10515       54313  0.019509\n",
       "10516       54319  0.031860\n",
       "\n",
       "[10517 rows x 2 columns]"
      ]
     },
     "execution_count": 7,
     "metadata": {},
     "output_type": "execute_result"
    }
   ],
   "source": [
    "tab_3 = test_feat[['amount','count','id_level_1']].groupby(by='id_level_1').agg(['mean','sum']).reset_index()\n",
    "tab_3.columns=['id_level_1','feat_1','feat_2','feat_3','feat_4']\n",
    "tab_3['score']=model.predict_proba(tab_3.drop(['id_level_1'], axis=1))[:,1]\n",
    "submit=tab_3[['id_level_1','score']]\n",
    "submit"
   ]
  },
  {
   "cell_type": "code",
   "execution_count": 8,
   "metadata": {},
   "outputs": [],
   "source": [
    "submit.to_csv('submission.csv')"
   ]
  },
  {
   "cell_type": "code",
   "execution_count": null,
   "metadata": {},
   "outputs": [],
   "source": []
  }
 ],
 "metadata": {
  "kernelspec": {
   "display_name": "Python 3 (ipykernel)",
   "language": "python",
   "name": "python3"
  },
  "language_info": {
   "codemirror_mode": {
    "name": "ipython",
    "version": 3
   },
   "file_extension": ".py",
   "mimetype": "text/x-python",
   "name": "python",
   "nbconvert_exporter": "python",
   "pygments_lexer": "ipython3",
   "version": "3.8.10"
  },
  "toc": {
   "base_numbering": 1,
   "nav_menu": {},
   "number_sections": true,
   "sideBar": true,
   "skip_h1_title": false,
   "title_cell": "Table of Contents",
   "title_sidebar": "Contents",
   "toc_cell": false,
   "toc_position": {},
   "toc_section_display": true,
   "toc_window_display": false
  }
 },
 "nbformat": 4,
 "nbformat_minor": 4
}
